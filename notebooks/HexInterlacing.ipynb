version https://git-lfs.github.com/spec/v1
oid sha256:3490cb01e1d5da5f871ce010aeb3ac0265df7a782ceb3a8224532de70c110fc7
size 1317102
